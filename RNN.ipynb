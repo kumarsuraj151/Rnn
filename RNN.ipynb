{
 "cells": [
  {
   "cell_type": "code",
   "execution_count": 32,
   "metadata": {},
   "outputs": [],
   "source": [
    "import torch\n",
    "import numpy as np\n",
    "import random\n",
    "import matplotlib.pyplot as plt"
   ]
  },
  {
   "attachments": {},
   "cell_type": "markdown",
   "metadata": {},
   "source": [
    "## Function for Creating Dataset"
   ]
  },
  {
   "cell_type": "code",
   "execution_count": 33,
   "metadata": {},
   "outputs": [],
   "source": [
    "def createData(size):\n",
    "    dataListX=[]\n",
    "    dataListY=[]\n",
    "    for _ in range(size):\n",
    "        a=random.randint(2,9)\n",
    "        b=np.random.rand(a)   #creating the random array of size between (2,9)\n",
    "        zero=np.zeros(a)\n",
    "        first =random.randint(0,a-1) #creating the zero array of size same as b\n",
    "        zero[first]=1                #making first index 1\n",
    "        second=random.randint(0,a-1)\n",
    "        while(second==first):        #checking that second index must be not same as first\n",
    "            second=random.randint(0,a-1)\n",
    "\n",
    "        zero[second]=1               #making the second index1\n",
    "\n",
    "        lebel=np.zeros(1)\n",
    "\n",
    "        for i in range(zero.shape[0]):    # summing for output\n",
    "            if(zero[i]==1.):\n",
    "                lebel += b[i]\n",
    "\n",
    "        final=np.stack((b,zero),0)   #appending the both array in same array\n",
    "        dataListX.append(final.tolist()) \n",
    "        dataListY.append(lebel.tolist())\n",
    "        \n",
    "    return dataListX,dataListY      #returining the X and Y\n"
   ]
  },
  {
   "cell_type": "code",
   "execution_count": 34,
   "metadata": {},
   "outputs": [],
   "source": [
    "# dataset for training\n",
    "X,Y=createData(5500)\n",
    "Y=torch.tensor(Y)\n"
   ]
  },
  {
   "cell_type": "code",
   "execution_count": 35,
   "metadata": {},
   "outputs": [],
   "source": [
    "#dataset for testing\n",
    "TestX,TestY=createData(1000)\n",
    "TestY=torch.tensor(TestY)"
   ]
  },
  {
   "attachments": {},
   "cell_type": "markdown",
   "metadata": {},
   "source": [
    "# Elmon"
   ]
  },
  {
   "cell_type": "code",
   "execution_count": 36,
   "metadata": {},
   "outputs": [],
   "source": [
    "class Elmon():\n",
    "    def __init__(self):\n",
    "        self.U=torch.rand(3,2,requires_grad=True)\n",
    "        self.H=torch.zeros(3,1)\n",
    "        self.W=torch.rand(3,3,requires_grad=True)\n",
    "        self.bh=torch.rand(3,1,requires_grad=True)\n",
    "        self.V=torch.rand(1,3,requires_grad=True)\n",
    "        self.by=torch.rand(1,1,requires_grad=True)\n",
    "        self.MSE=torch.nn.MSELoss()\n",
    "        self.optimiser=torch.optim.SGD([self.U,self.W,self.bh,self.V,self.by],lr=0.01)\n",
    "\n",
    "    def ForwardPass(self,a):\n",
    "        temp_H = self.H\n",
    "        for i in range(a.shape[1]):\n",
    "            x=a[:,i].reshape(2,-1)\n",
    "            temp_H=torch.tanh(torch.matmul(self.U,x)+torch.matmul(self.W,temp_H)+self.bh)\n",
    "        firstTerm=torch.matmul(self.V,temp_H)\n",
    "        y=firstTerm+self.by\n",
    "        return y\n",
    "    \n",
    "    def Train(self,X,Y,epoch):\n",
    "        ElmonLoss=[]\n",
    "        for j in range(epoch):\n",
    "            total_ls =0 \n",
    "            for i in range(len(X)):\n",
    "                a=torch.tensor(X[i])\n",
    "                ypre=self.ForwardPass(a)\n",
    "                ypre=ypre.reshape(-1)\n",
    "                self.optimiser.zero_grad()\n",
    "                los=self.MSE(ypre,Y[i])\n",
    "\n",
    "                total_ls = total_ls + los.detach().item()\n",
    "            \n",
    "                los.backward()\n",
    "                self.optimiser.step()\n",
    "\n",
    "            ElmonLoss.append(total_ls/len(X))\n",
    "            if j%5==0:\n",
    "                print(f' loss at epoch {j} is {total_ls/len(X)}')\n",
    "\n",
    "        return ElmonLoss\n",
    "    \n",
    "    def Test(self,X,Y):\n",
    "        total_ls =0 \n",
    "        for i in range(len(X)):\n",
    "            a=torch.tensor(X[i])\n",
    "            ypre=self.ForwardPass(a)\n",
    "            ypre=ypre.reshape(-1)\n",
    "            los=self.MSE(ypre,Y[i])\n",
    "            total_ls = total_ls + los.detach().item()\n",
    "    \n",
    "        return total_ls/len(X)"
   ]
  },
  {
   "cell_type": "code",
   "execution_count": 37,
   "metadata": {},
   "outputs": [],
   "source": [
    "elmon=Elmon()"
   ]
  },
  {
   "cell_type": "code",
   "execution_count": 38,
   "metadata": {},
   "outputs": [
    {
     "name": "stdout",
     "output_type": "stream",
     "text": [
      " loss at epoch 0 is 0.15179476196568983\n",
      " loss at epoch 5 is 0.031710974282004596\n",
      " loss at epoch 10 is 0.008334402556968457\n",
      " loss at epoch 15 is 0.007749570245209208\n",
      " loss at epoch 20 is 0.007563415642729862\n"
     ]
    }
   ],
   "source": [
    "elmonLoss=elmon.Train(X,Y,25)"
   ]
  },
  {
   "cell_type": "code",
   "execution_count": 39,
   "metadata": {},
   "outputs": [
    {
     "data": {
      "text/plain": [
       "0.005891017763157624"
      ]
     },
     "execution_count": 39,
     "metadata": {},
     "output_type": "execute_result"
    }
   ],
   "source": [
    "# testing over 1000 dataset and MSE loss is storing into  ElmonTest\n",
    "ElmonTest=elmon.Test(TestX,TestY)\n",
    "ElmonTest"
   ]
  },
  {
   "attachments": {},
   "cell_type": "markdown",
   "metadata": {},
   "source": [
    "# LSTM"
   ]
  },
  {
   "cell_type": "code",
   "execution_count": 40,
   "metadata": {},
   "outputs": [],
   "source": [
    "class LSTM():\n",
    "    def __init__(self):\n",
    "       self.H=torch.zeros(5,1)\n",
    "       self.W_f=torch.rand(5,7,requires_grad=True)\n",
    "       self.b_f=torch.rand(5,1,requires_grad=True)\n",
    "       self.W_i=torch.rand(5,7,requires_grad=True)\n",
    "       self.b_i=torch.rand(5,1,requires_grad=True)\n",
    "       self.W_c=torch.rand(5,7,requires_grad=True)\n",
    "       self.b_c=torch.rand(5,1,requires_grad=True)\n",
    "       self.W_o=torch.rand(5,7,requires_grad=True)\n",
    "       self.b_o=torch.rand(5,1,requires_grad=True)\n",
    "       self.C=torch.zeros(5,1)\n",
    "       self.W_fi=torch.rand(1,5,requires_grad=True)\n",
    "       self.W_ci=torch.rand(1,1,requires_grad=True)\n",
    "       self.MSE=torch.nn.MSELoss()\n",
    "       self.optimiser=torch.optim.SGD([self.W_f,self.b_f,self.W_i,self.b_i,self.W_c,self.b_c,self.W_o,self.b_o,self.W_fi,self.W_ci],lr=0.05)\n",
    "\n",
    "    def ForwarPass(self,a):\n",
    "        tempH=self.H\n",
    "        tempC=self.C\n",
    "        for i in range(a.shape[1]):\n",
    "            x=a[:,i].reshape(2,-1)\n",
    "            a_=torch.cat((tempH,x),0)\n",
    "            first=torch.matmul(self.W_f,a_)\n",
    "            forgetGet=torch.sigmoid(first+self.b_f)\n",
    "\n",
    "            i=torch.cat((tempH,x),0)\n",
    "            first=torch.matmul(self.W_i,i)\n",
    "            I=torch.sigmoid(first+self.b_i)\n",
    "\n",
    "            c=torch.cat((tempH,x),0)\n",
    "            first=torch.matmul(self.W_c,c)\n",
    "            C_=torch.sigmoid(first+self.b_c)\n",
    "\n",
    "            tempC=torch.mul(forgetGet,tempC)+torch.mul(I,C_)\n",
    "\n",
    "            o=torch.cat((tempH,x),0)\n",
    "            first=torch.matmul(self.W_o,o)\n",
    "            ot=torch.sigmoid(first+self.b_o)\n",
    "            \n",
    "            tempH=torch.mul(ot,torch.tanh(tempC))\n",
    "\n",
    "        y=torch.relu(torch.matmul(self.W_fi,tempH)+self.W_ci)\n",
    "        return y\n",
    "    \n",
    "    def Train(self,X,Y,epoch):\n",
    "        LSTMloss=[]\n",
    "        for j in range(epoch):\n",
    "            total_ls =0 \n",
    "            for i in range(len(X)):\n",
    "                a=torch.tensor(X[i])\n",
    "                ypre=self.ForwarPass(a)\n",
    "                ypre=ypre.reshape(-1)\n",
    "            \n",
    "                los=self.MSE(ypre,Y[i])\n",
    "                self.optimiser.zero_grad()\n",
    "                total_ls = total_ls + los.detach().item()\n",
    "            \n",
    "                los.backward()\n",
    "                \n",
    "                self.optimiser.step()\n",
    "            \n",
    "            LSTMloss.append(total_ls/len(X))\n",
    "            if j%5==0:\n",
    "                print(f' loss at epoch {j} is {total_ls/len(X)}')\n",
    "        return LSTMloss\n",
    "    \n",
    "    def Test(self,X,Y):\n",
    "        total_ls =0 \n",
    "        for i in range(len(X)):\n",
    "            a=torch.tensor(X[i])\n",
    "            ypre=self.ForwarPass(a)\n",
    "            ypre=ypre.reshape(-1)\n",
    "            los=self.MSE(ypre,Y[i])\n",
    "            total_ls = total_ls + los.detach().item()\n",
    "\n",
    "        return total_ls/len(X)"
   ]
  },
  {
   "cell_type": "code",
   "execution_count": 41,
   "metadata": {},
   "outputs": [],
   "source": [
    "lstm=LSTM()"
   ]
  },
  {
   "cell_type": "code",
   "execution_count": 42,
   "metadata": {},
   "outputs": [
    {
     "name": "stdout",
     "output_type": "stream",
     "text": [
      " loss at epoch 0 is 0.19605936562880028\n",
      " loss at epoch 5 is 0.0025380806018121243\n",
      " loss at epoch 10 is 0.0010468738017585396\n",
      " loss at epoch 15 is 0.0006622109732421548\n",
      " loss at epoch 20 is 0.000491665722004142\n"
     ]
    }
   ],
   "source": [
    "lstmLoss=lstm.Train(X,Y,25)"
   ]
  },
  {
   "cell_type": "code",
   "execution_count": 43,
   "metadata": {},
   "outputs": [
    {
     "data": {
      "text/plain": [
       "0.0003380870940776326"
      ]
     },
     "execution_count": 43,
     "metadata": {},
     "output_type": "execute_result"
    }
   ],
   "source": [
    "lstmTest=lstm.Test(TestX,TestY)\n",
    "lstmTest"
   ]
  },
  {
   "attachments": {},
   "cell_type": "markdown",
   "metadata": {},
   "source": [
    "# GRU"
   ]
  },
  {
   "cell_type": "code",
   "execution_count": 44,
   "metadata": {},
   "outputs": [],
   "source": [
    "class GRU():\n",
    "    def __init__(self):\n",
    "        self.H=torch.zeros(5,1)\n",
    "        self.W_z=torch.rand(5,7,requires_grad=True)\n",
    "        self.b_z=torch.rand(5,1,requires_grad=True)\n",
    "        self.W_r=torch.rand(5,7,requires_grad=True)\n",
    "        self.b_r=torch.rand(5,1,requires_grad=True)\n",
    "        self.W_h=torch.rand(5,7,requires_grad=True)\n",
    "        self.b_h=torch.rand(5,1,requires_grad=True)\n",
    "        self.W_fi=torch.rand(1,5,requires_grad=True)\n",
    "        self.W_ci=torch.rand(1,1,requires_grad=True)\n",
    "        \n",
    "        self.MSE=torch.nn.MSELoss()\n",
    "        self.optimiser=torch.optim.SGD([self.W_z,self.b_z,self.W_r,self.b_r,self.W_h,self.b_h,self.W_fi,self.W_ci],lr=0.04)\n",
    "\n",
    "\n",
    "    def ForwarPass(self,a):\n",
    "        temp=self.H \n",
    "        for i in range(a.shape[1]):\n",
    "            x=a[:,i].reshape(2,-1)\n",
    "            a_=torch.cat((temp,x),0)\n",
    "            z=torch.sigmoid(torch.matmul(self.W_z,a_)+self.b_z)\n",
    "\n",
    "            r=torch.sigmoid(torch.matmul(self.W_r,a_)+self.b_r)\n",
    "\n",
    "            m=torch.mul(r,temp)\n",
    "            m_=torch.cat((m,x),0)\n",
    "            h=torch.tanh(torch.matmul(self.W_h,m_)+self.b_h) \n",
    "\n",
    "            temp=torch.mul((1-z),temp)+torch.mul(z,h)\n",
    "        y=torch.matmul(self.W_fi,temp)+self.W_ci \n",
    "        return y\n",
    "    \n",
    "    def Train(self,X,Y,epoch):\n",
    "        GruLoss=[]\n",
    "        for j in range(epoch):\n",
    "            total_ls =0 \n",
    "            for i in range(len(X)):\n",
    "                a=torch.tensor(X[i])\n",
    "                ypre=self.ForwarPass(a)\n",
    "                ypre=ypre.reshape(-1)\n",
    "                los=self.MSE(ypre,Y[i])\n",
    "                self.optimiser.zero_grad()\n",
    "                total_ls = total_ls + los.detach().item()\n",
    "            \n",
    "                los.backward()\n",
    "                \n",
    "                self.optimiser.step()\n",
    "            \n",
    "            GruLoss.append(total_ls/len(X))\n",
    "            if j%5==0:\n",
    "                print(f' loss at epoch {j} is {total_ls/len(X)}')\n",
    "        return GruLoss\n",
    "    \n",
    "    def Test(self,X,Y):\n",
    "        total_ls =0 \n",
    "        for i in range(len(X)):\n",
    "            a=torch.tensor(X[i])\n",
    "            ypre=self.ForwarPass(a)\n",
    "            ypre=ypre.reshape(-1)\n",
    "            los=self.MSE(ypre,Y[i])\n",
    "            total_ls = total_ls + los.detach().item()\n",
    "\n",
    "        return total_ls/len(X)"
   ]
  },
  {
   "cell_type": "code",
   "execution_count": 45,
   "metadata": {},
   "outputs": [],
   "source": [
    "gru=GRU()"
   ]
  },
  {
   "cell_type": "code",
   "execution_count": 46,
   "metadata": {},
   "outputs": [
    {
     "name": "stdout",
     "output_type": "stream",
     "text": [
      " loss at epoch 0 is 0.10533176189822725\n",
      " loss at epoch 5 is 0.0012426743449648757\n",
      " loss at epoch 10 is 0.0007293666142842713\n",
      " loss at epoch 15 is 0.0005389460199393094\n",
      " loss at epoch 20 is 0.00044237369112974596\n"
     ]
    }
   ],
   "source": [
    "GruLoss=gru.Train(X,Y,25)"
   ]
  },
  {
   "cell_type": "code",
   "execution_count": 47,
   "metadata": {},
   "outputs": [
    {
     "data": {
      "text/plain": [
       "0.00017749198524513333"
      ]
     },
     "execution_count": 47,
     "metadata": {},
     "output_type": "execute_result"
    }
   ],
   "source": [
    "# testing the Gru over 1000 dataset\n",
    "gruTest=gru.Test(TestX,TestY)\n",
    "gruTest"
   ]
  },
  {
   "cell_type": "code",
   "execution_count": 48,
   "metadata": {},
   "outputs": [
    {
     "data": {
      "text/plain": [
       "tensor(0.1646)"
      ]
     },
     "execution_count": 48,
     "metadata": {},
     "output_type": "execute_result"
    }
   ],
   "source": [
    "Y=Y.reshape(-1)\n",
    "BaseLine=torch.ones(len(Y))\n",
    "MSE=torch.nn.MSELoss()\n",
    "BaseLineLoss=MSE(Y,BaseLine)\n",
    "BaseLineLoss"
   ]
  },
  {
   "cell_type": "code",
   "execution_count": 49,
   "metadata": {},
   "outputs": [
    {
     "data": {
      "text/plain": [
       "Text(0.5, 1.0, 'Loss comparisation during Training')"
      ]
     },
     "execution_count": 49,
     "metadata": {},
     "output_type": "execute_result"
    },
    {
     "data": {
      "image/png": "[encoded data removed]",
      "text/plain": [
       "<Figure size 640x480 with 1 Axes>"
      ]
     },
     "metadata": {},
     "output_type": "display_data"
    }
   ],
   "source": [
    "plt.axhline(y=[BaseLineLoss.item()],color='r', linestyle='-')\n",
    "plt.plot(elmonLoss)\n",
    "plt.plot(lstmLoss)\n",
    "plt.plot(GruLoss)\n",
    "plt.legend(['BaseLineLoss','Elmon','LSTM','GRU'])\n",
    "plt.title(\"Loss comparisation during Training\")"
   ]
  },
  {
   "cell_type": "code",
   "execution_count": 50,
   "metadata": {},
   "outputs": [
    {
     "data": {
      "text/plain": [
       "Text(0.5, 1.0, 'Performance Test With Baseline Loss')"
      ]
     },
     "execution_count": 50,
     "metadata": {},
     "output_type": "execute_result"
    },
    {
     "data": {
      "image/png": "[encoded data removed]",
      "text/plain": [
       "<Figure size 640x480 with 2 Axes>"
      ]
     },
     "metadata": {},
     "output_type": "display_data"
    }
   ],
   "source": [
    "plt.subplot(1,2,1)\n",
    "plt.bar(['Elmon','LSTM','GRU'],[ElmonTest,lstmTest,gruTest])\n",
    "plt.title('Performance Test')\n",
    "\n",
    "plt.subplot(1,2,2)\n",
    "plt.bar(['BaseLine','Elmon','LSTM','GRU'],[BaseLineLoss,ElmonTest,lstmTest,gruTest])\n",
    "plt.title('Performance Test With Baseline Loss')"
   ]
  }
 ],
 "metadata": {
  "kernelspec": {
   "display_name": "base",
   "language": "python",
   "name": "python3"
  },
  "language_info": {
   "codemirror_mode": {
    "name": "ipython",
    "version": 3
   },
   "file_extension": ".py",
   "mimetype": "text/x-python",
   "name": "python",
   "nbconvert_exporter": "python",
   "pygments_lexer": "ipython3",
   "version": "3.9.13"
  },
  "orig_nbformat": 4
 },
 "nbformat": 4,
 "nbformat_minor": 2
}
